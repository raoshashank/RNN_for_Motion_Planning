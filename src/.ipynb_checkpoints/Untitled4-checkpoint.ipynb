{
 "cells": [
  {
   "cell_type": "code",
   "execution_count": 38,
   "metadata": {},
   "outputs": [
    {
     "name": "stdout",
     "output_type": "stream",
     "text": [
      "\n",
      "\n",
      "\n",
      "\n",
      "\n",
      "(184749, 12)\n",
      "(184749, 6)\n"
     ]
    }
   ],
   "source": [
    "import tensorflow as tf \n",
    "import tensorflow.contrib.rnn as rnn\n",
    "import numpy as np\n",
    "import os,os.path\n",
    "from data_pb2 import Sequence\n",
    "from prep_data import prep_data\n",
    "import sys\n",
    "from data_generation import call_compute_fk_service,random_valid_end_point_generator,get_poses\n",
    "from control_msgs.msg import FollowJointTrajectoryAction, FollowJointTrajectoryGoal\n",
    "from trajectory_msgs.msg import JointTrajectoryPoint\n",
    "from moveit_msgs.msg import RobotState\n",
    "from sensor_msgs.msg import JointState\n",
    "import copy\n",
    "import rospy\n",
    "import moveit_msgs.msg\n",
    "import actionlib\n",
    "import moveit_commander\n",
    "import geometry_msgs.msg\n",
    "from geometry_msgs.msg import Pose\n",
    "import math\n",
    "import random\n",
    "from moveit_msgs.srv import GetPositionFK\n",
    "from moveit_msgs.srv import GetPositionFKRequest\n",
    "from moveit_msgs.srv import GetPositionFKResponse\n",
    "from sensor_msgs.msg import JointState\n",
    "from moveit_msgs.msg import RobotState\n",
    "from std_msgs.msg import Header\n",
    "from data_pb2 import Sequence\n",
    "import sys,os\n",
    "from data_generation import random_valid_end_point_generator,get_poses,call_compute_fk_service\n",
    "\n",
    "prime=\"/home/shashank/catkin_ws/src/rnn_ur5/\"\n",
    "data_home=prime+\"dataset/\"\n",
    "file_name = data_home + 'sequence_%05d'\n",
    "model_ckpt_path = prime+\"modelckpt/\"\n",
    "model_events = prime+\"/modelevents/\"\n",
    "from sklearn.utils import shuffle\n",
    "\n",
    "path, dirs, files = next(os.walk(data_home))\n",
    "num_sequences = len(files)\n",
    "#print num_sequences\n",
    "\n",
    "batch_size=64\n",
    "num_features = 6 ##[desired_pose,current_pose]\n",
    "output_sequence_length = 6 ##6 joint angles\n",
    "num_units = 6\n",
    "samples_per_path=100\n",
    "\n",
    "inputs=[]\n",
    "labels=[]\n",
    "initial_states=[]\n",
    "temp_inputs=[]\n",
    "\n",
    "inp=[]\n",
    "out=[]\n",
    "\n",
    "data=Sequence()\n",
    "\n",
    "for i in range(num_sequences):\n",
    "    data.Clear()\n",
    "    f=open(file_name%i,\"rb\")\n",
    "    data.ParseFromString(f.read())\n",
    "    for i in range(len(data.xyz)-1):\n",
    "        x=[]\n",
    "        y=[]\n",
    "        [x.append(j) for j in data.xyz[i].poses]\n",
    "        [x.append(j) for j in data.xyz[i+1].poses]\n",
    "        [x.append(j/np.pi) for j in data.thetas[i].theta_values]\n",
    "        [y.append(j) for j in data.thetas[i+1].theta_values]\n",
    "        inp.append(x)\n",
    "        out.append(y)\n",
    "\n",
    "    f.close()\n",
    "\n",
    "inp=np.array(inp)\n",
    "out=np.array(out)\n",
    "out=out/np.pi\n",
    "\n",
    "ckpt_start=0\n",
    "\n",
    "# for i in np.arange(0,len(out),1):\n",
    "# \tprint '~~~~~~'\n",
    "# \tprint out[i]\n",
    "# \tprint '\\n\\n'\n",
    "# \tprint inp[i]\n",
    "# \tprint '~~~~~~'\n",
    "# # In[89]:\n",
    "\n",
    "\n",
    "import tensorflow as tf\n",
    "\n",
    "\n",
    "# In[90]:\n",
    "\n",
    "\n",
    "input_dimension=12\n",
    "output_dimension=6\n",
    "\n",
    "inputs = tf.placeholder(shape=[None,input_dimension],dtype=tf.float32,name='INPUT')\n",
    "labels = tf.placeholder(shape=[None,output_dimension],dtype=tf.float32,name='OUTPUT')\n",
    "\n",
    "print \"\\n\\n\\n\\n\"\n",
    "print np.shape(inp)\n",
    "print np.shape(out)\n",
    "\n",
    "units = [30,50,6]\n",
    "\n",
    "# In[92]:\n",
    "\n",
    "\n",
    "\n",
    "\n",
    "with tf.name_scope('Dense_1'):\n",
    "\tfc1 = tf.layers.dense(inputs=inputs,units=units[0],use_bias=False,activation=tf.nn.sigmoid)\n",
    "\n",
    "# with tf.name_scope('Dense_2'):\n",
    "# \tfc2=tf.layers.dense(inputs=fc1,units=units[1],use_bias=False,activation=tf.nn.tanh)\n",
    "\n",
    "# with tf.name_scope('Dense_3'):\t\n",
    "# \tfc3=tf.layers.dense(inputs=fc2,units=units[2],use_bias=False,activation=tf.nn.tanh)    \n",
    "\n",
    "with tf.name_scope('Dense_4'):\t\n",
    "\tfc4=tf.layers.dense(inputs=fc1,units=units[1],use_bias=False,activation=tf.nn.sigmoid)    \n",
    "\n",
    "with tf.name_scope('Output'):\n",
    "\toutput=tf.layers.dense(inputs=fc4,units=units[2],activation=tf.nn.tanh,use_bias=False)\n",
    "\n",
    "with tf.name_scope('LOSS'):\n",
    "        loss=tf.reduce_sum(tf.losses.mean_squared_error(labels=labels,predictions=output))\n",
    "    \n",
    "optim = tf.train.AdamOptimizer(name=\"Optimizer\",learning_rate=1e-5).minimize(loss)\n",
    "\n",
    "loss_summary = tf.summary.scalar('loss',loss)\n",
    "saver = tf.train.Saver()\n",
    "\n",
    "# In[96]:\n",
    "write = 0\n",
    "leng=len(inp)\n",
    "train_size = int(0.8*leng)\n",
    "train_x = inp[0:train_size,:]\n",
    "train_y = out[0:train_size,:]\n",
    "test_x  = inp[train_size:,:]\n",
    "test_y  = out[train_size:,:]"
   ]
  },
  {
   "cell_type": "code",
   "execution_count": 105,
   "metadata": {},
   "outputs": [],
   "source": [
    "mode=sys.argv[1]\n",
    "global group_arm,current_joint_values\n",
    "current_joint_values = JointState()\n",
    "moveit_commander.roscpp_initializer.roscpp_initialize(sys.argv)\n",
    "rospy.init_node('main_node', anonymous=True)\n",
    "robot = moveit_commander.RobotCommander()\n",
    "scene = moveit_commander.PlanningSceneInterface()\n",
    "group_arm = moveit_commander.MoveGroupCommander(\"manipulator\")\n",
    "group_arm.set_planner_id(\"RRTConnectkConfig\")"
   ]
  },
  {
   "cell_type": "code",
   "execution_count": 106,
   "metadata": {},
   "outputs": [],
   "source": [
    "waypoints=[]\n",
    "initial_ee_pose = get_poses(False,group_arm)\n",
    "initial_joint_angles = get_poses(True,group_arm)\n",
    "waypoints.append(initial_ee_pose)"
   ]
  },
  {
   "cell_type": "code",
   "execution_count": 107,
   "metadata": {},
   "outputs": [
    {
     "name": "stdout",
     "output_type": "stream",
     "text": [
      "(109,)\n"
     ]
    }
   ],
   "source": [
    "final_ee_pose = geometry_msgs.msg.Pose()\n",
    "(plan,fraction,final_ee_pose)=random_valid_end_point_generator(waypoints,group_arm,initial_ee_pose)\n",
    "intermediate_ee_poses = []\n",
    "path_length = len(plan.joint_trajectory.points)\n",
    "intermediate_joint_values = [plan.joint_trajectory.points[j].positions for j in range(path_length)]\n",
    "[intermediate_ee_poses.append(call_compute_fk_service(joints)) for joints in intermediate_joint_values]\n",
    "print np.shape(intermediate_ee_poses)\n",
    "intermediate_ee_poses=np.array(intermediate_ee_poses)"
   ]
  },
  {
   "cell_type": "code",
   "execution_count": 108,
   "metadata": {},
   "outputs": [],
   "source": [
    "intermediate_ee_poses_=[]\n",
    "for i in intermediate_ee_poses:\n",
    "    intermediate_ee_poses_.append([i.x,i.y,i.z])\n",
    "intermediate_ee_poses=np.array(intermediate_ee_poses_)"
   ]
  },
  {
   "cell_type": "code",
   "execution_count": 109,
   "metadata": {},
   "outputs": [
    {
     "name": "stdout",
     "output_type": "stream",
     "text": [
      "(109, 3)\n"
     ]
    }
   ],
   "source": [
    "print np.shape(intermediate_ee_poses)"
   ]
  },
  {
   "cell_type": "code",
   "execution_count": 110,
   "metadata": {},
   "outputs": [
    {
     "name": "stdout",
     "output_type": "stream",
     "text": [
      "(109, 3)\n",
      "[[0.81640627 0.19151082 0.5129177 ]\n",
      " [0.81640627 0.19151082 0.5129177 ]\n",
      " [0.75218288 0.41138406 0.63234392]\n",
      " [0.70707685 0.48707717 0.68362758]\n",
      " [0.66434823 0.54131853 0.72567652]\n",
      " [0.62331508 0.58310837 0.76259035]\n",
      " [0.58360249 0.61638064 0.79614568]\n",
      " [0.54510091 0.64317341 0.82722141]\n",
      " [0.50775113 0.66476291 0.85635142]\n",
      " [0.47152095 0.68201872 0.88388671]]\n",
      "[[0.81640627 0.19151082 0.5129177 ]\n",
      " [0.75218288 0.41138406 0.63234392]\n",
      " [0.70707685 0.48707717 0.68362758]\n",
      " [0.66434823 0.54131853 0.72567652]\n",
      " [0.62331508 0.58310837 0.76259035]\n",
      " [0.58360249 0.61638064 0.79614568]\n",
      " [0.54510091 0.64317341 0.82722141]\n",
      " [0.50775113 0.66476291 0.85635142]\n",
      " [0.47152095 0.68201872 0.88388671]\n",
      " [0.43639247 0.69557129 0.91007184]]\n"
     ]
    }
   ],
   "source": [
    "intermediate_ee_poses_1  = np.roll(intermediate_ee_poses,-1,0)\n",
    "print np.shape(intermediate_ee_poses_1)\n",
    "print intermediate_ee_poses[0:10,:]\n",
    "print intermediate_ee_poses_1[0:10,:]"
   ]
  },
  {
   "cell_type": "code",
   "execution_count": 111,
   "metadata": {},
   "outputs": [],
   "source": [
    "intermediate_joint_values = np.array(intermediate_joint_values)\n",
    "intermediate_joint_values_1 = np.roll(intermediate_joint_values,-1,0)"
   ]
  },
  {
   "cell_type": "code",
   "execution_count": 112,
   "metadata": {},
   "outputs": [
    {
     "name": "stdout",
     "output_type": "stream",
     "text": [
      "(108, 3)\n",
      "(108, 3)\n",
      "(108, 6)\n",
      "(108, 6)\n"
     ]
    }
   ],
   "source": [
    "intermediate_ee_poses=intermediate_ee_poses[:-1,:]\n",
    "intermediate_ee_poses_1=intermediate_ee_poses_1[:-1,:]\n",
    "intermediate_joint_values=intermediate_joint_values[:-1,:]\n",
    "intermediate_joint_values_1=intermediate_joint_values_1[:-1,:]\n",
    "\n",
    "print np.shape(intermediate_ee_poses)\n",
    "print np.shape(intermediate_ee_poses_1)\n",
    "print np.shape(intermediate_joint_values)\n",
    "print np.shape(intermediate_joint_values_1)\n"
   ]
  },
  {
   "cell_type": "code",
   "execution_count": 113,
   "metadata": {},
   "outputs": [],
   "source": [
    "inputs = np.hstack([intermediate_ee_poses,intermediate_ee_poses_1,intermediate_joint_values])\n",
    "outputs = intermediate_joint_values_1"
   ]
  },
  {
   "cell_type": "code",
   "execution_count": 114,
   "metadata": {},
   "outputs": [
    {
     "name": "stdout",
     "output_type": "stream",
     "text": [
      "(108, 12)\n",
      "(108, 6)\n"
     ]
    }
   ],
   "source": [
    "print np.shape(inputs)\n",
    "print np.shape(outputs)"
   ]
  },
  {
   "cell_type": "code",
   "execution_count": null,
   "metadata": {},
   "outputs": [],
   "source": []
  }
 ],
 "metadata": {
  "kernelspec": {
   "display_name": "Python 2",
   "language": "python",
   "name": "python2"
  },
  "language_info": {
   "codemirror_mode": {
    "name": "ipython",
    "version": 2
   },
   "file_extension": ".py",
   "mimetype": "text/x-python",
   "name": "python",
   "nbconvert_exporter": "python",
   "pygments_lexer": "ipython2",
   "version": "2.7.6"
  }
 },
 "nbformat": 4,
 "nbformat_minor": 2
}
