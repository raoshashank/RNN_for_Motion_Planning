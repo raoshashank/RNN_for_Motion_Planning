{
 "cells": [
  {
   "cell_type": "code",
   "execution_count": 90,
   "metadata": {},
   "outputs": [],
   "source": [
    "import tensorflow as tf \n",
    "import tensorflow.contrib.rnn as rnn\n",
    "import numpy as np\n",
    "import os,os.path\n",
    "from data_pb2 import Sequence\n",
    "home=\"/home/shashank/catkin_ws/src/rnn_ur5/dataset/\"\n",
    "file_name = home + 'sequence_%05d'\n",
    "\n",
    "path, dirs, files = next(os.walk(home))\n",
    "num_sequences = len(files)\n",
    "#print num_sequences\n",
    "\n",
    "batch_size=64\n",
    "num_features = 6 ##[desired_pose,current_pose]\n",
    "output_sequence_length = 6 ##6 joint angles\n",
    "num_units = 6\n",
    "samples_per_path=100\n",
    "\n",
    "inputs=[]\n",
    "labels=[]\n",
    "intial_states=[]\n",
    "temp_inputs=[]\n",
    "\n",
    "def prep_data():\n",
    "    global inputs,labels,intial_states,temp_inputs\n",
    "    max_len = 0\n",
    "    data=Sequence()\n",
    "    for i in range(num_sequences):\n",
    "        data.Clear()\n",
    "        thetas=[]\n",
    "        xyz=[] #shape : sequence_length *   \n",
    "        xyz_f=[]\n",
    "        data.Clear()\n",
    "        f=open(str(file_name%i),\"rb\")\n",
    "        data.ParseFromString(f.read())\n",
    "        #if len(data.thetas)\n",
    "        #Prep input values\n",
    "        xyz_f = data.ends.final_pose\n",
    "        for t in data.xyz:\n",
    "            j=[]\n",
    "            j.append([r for r in t.poses])\n",
    "            xyz.append(j)\n",
    "        \n",
    "        j=0;t=0\n",
    "        xyz=np.array(xyz)\n",
    "        #xyz=np.squeeze(xyz) \n",
    "        th=[]\n",
    "        for t in data.thetas:\n",
    "            th.append([j for j in t.theta_values])\n",
    "        ##for now lets not use the ends attribute and treat last and first elements of thetas and xyz as ends\n",
    "        [intial_states.append([x for x in data.thetas[-1].theta_values])]\n",
    "        #[labels.append([[j for j in t.theta_values] for t in data.thetas])]\n",
    "        \n",
    "        j=0;t=0;temp_inputs=[]\n",
    "        [temp_inputs.append(np.array([j for j in t.poses])) for t in data.xyz]                                                          \n",
    "        t=[]\n",
    "        [t.append(np.append(r,temp_inputs[-1])) for r in temp_inputs]\n",
    "        t=np.expand_dims(t,0).tolist()\n",
    "        inputs = t+inputs\n",
    "        l=[]\n",
    "        temp_labels=[]\n",
    "        [temp_labels.append(np.array([j for j in t.theta_values])) for t in data.thetas]                                                         \n",
    "        temp_labels=np.expand_dims(temp_labels,0).tolist()\n",
    "        labels = temp_labels+labels\n",
    "    max_len=0\n",
    "    \n",
    "    ##padding\n",
    "    for i in inputs:\n",
    "        if(max_len<np.shape(i)[0]):\n",
    "            max_len = np.shape(i)[0]\n",
    "    inputs=[np.pad(i,[(0,max_len-np.shape(i)[0]),(0,0)],mode='constant') for i in inputs]\n",
    "    labels=[np.pad(i,[(0,max_len-np.shape(i)[0]),(0,0)],mode='constant') for i in labels]\n",
    "                "
   ]
  },
  {
   "cell_type": "code",
   "execution_count": 91,
   "metadata": {},
   "outputs": [],
   "source": [
    "prep_data()"
   ]
  },
  {
   "cell_type": "code",
   "execution_count": 92,
   "metadata": {},
   "outputs": [
    {
     "name": "stdout",
     "output_type": "stream",
     "text": [
      "(100, 164, 6)\n",
      "(100, 164, 6)\n"
     ]
    }
   ],
   "source": [
    "print np.shape(inputs)\n",
    "print np.shape(labels)"
   ]
  },
  {
   "cell_type": "code",
   "execution_count": null,
   "metadata": {},
   "outputs": [],
   "source": []
  }
 ],
 "metadata": {
  "kernelspec": {
   "display_name": "Python 2",
   "language": "python",
   "name": "python2"
  },
  "language_info": {
   "codemirror_mode": {
    "name": "ipython",
    "version": 2
   },
   "file_extension": ".py",
   "mimetype": "text/x-python",
   "name": "python",
   "nbconvert_exporter": "python",
   "pygments_lexer": "ipython2",
   "version": "2.7.6"
  }
 },
 "nbformat": 4,
 "nbformat_minor": 2
}
