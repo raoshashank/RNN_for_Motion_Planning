{
 "cells": [
  {
   "cell_type": "code",
   "execution_count": 2,
   "metadata": {},
   "outputs": [
    {
     "data": {
      "text/plain": [
       "10426"
      ]
     },
     "execution_count": 2,
     "metadata": {},
     "output_type": "execute_result"
    }
   ],
   "source": [
    "from data_pb2 import Sequence\n",
    "home=\"/home/shashank/catkin_ws/src/rnn_ur5/dataset/\"\n",
    "file_name = home + 'sequence_%05d'\n",
    "data = Sequence()\n",
    "f = open(file_name%10,\"rb\")\n",
    "data.ParseFromString(f.read())"
   ]
  },
  {
   "cell_type": "code",
   "execution_count": 4,
   "metadata": {},
   "outputs": [
    {
     "name": "stdout",
     "output_type": "stream",
     "text": [
      "<type 'list'>\n"
     ]
    }
   ],
   "source": [
    "import numpy as np\n",
    "temp_inputs = []\n",
    "[temp_inputs.append(np.array([j for j in t.poses])) for t in data.xyz]      \n",
    "print type(temp_inputs)"
   ]
  },
  {
   "cell_type": "code",
   "execution_count": 54,
   "metadata": {},
   "outputs": [
    {
     "name": "stdout",
     "output_type": "stream",
     "text": [
      "<type 'list'>\n",
      "(122, 6)\n"
     ]
    }
   ],
   "source": [
    "t=[]\n",
    "[t.append(np.append(r,temp_inputs[-1])) for r in temp_inputs]\n",
    "print type(t)\n",
    "print np.shape(t)"
   ]
  },
  {
   "cell_type": "code",
   "execution_count": 55,
   "metadata": {
    "scrolled": true
   },
   "outputs": [
    {
     "name": "stdout",
     "output_type": "stream",
     "text": [
      "[0.81640627 0.19151082 0.5129177 ]\n",
      "(1, 122, 6)\n",
      "(1, 40, 6)\n",
      "(40, 6)\n"
     ]
    }
   ],
   "source": [
    "print temp_inputs[0]\n",
    "#print t[0]\n",
    "test = np.random.random([1,40,6]).tolist()\n",
    "t = np.expand_dims(t,0)\n",
    "print np.shape(t)\n",
    "print np.shape(test)\n",
    "t=t.tolist()\n",
    "test=[]\n",
    "t = t+test\n",
    "print np.shape(t[1])"
   ]
  },
  {
   "cell_type": "code",
   "execution_count": 23,
   "metadata": {},
   "outputs": [
    {
     "data": {
      "text/plain": [
       "array([ 0.81640627,  0.19151082,  0.5129177 , -0.2157126 ,  0.20742889,\n",
       "        0.60989853])"
      ]
     },
     "execution_count": 23,
     "metadata": {},
     "output_type": "execute_result"
    }
   ],
   "source": []
  },
  {
   "cell_type": "code",
   "execution_count": 33,
   "metadata": {},
   "outputs": [
    {
     "name": "stdout",
     "output_type": "stream",
     "text": [
      "(122, 3)\n",
      "(122, 6)\n"
     ]
    }
   ],
   "source": [
    "print np.shape(temp_inputs)\n",
    "print np.shape(t)"
   ]
  },
  {
   "cell_type": "code",
   "execution_count": 41,
   "metadata": {},
   "outputs": [
    {
     "name": "stdout",
     "output_type": "stream",
     "text": [
      "(1, 122, 6)\n",
      "(1, 40, 6)\n"
     ]
    }
   ],
   "source": [
    "t=np.expand_dims(t,0)\n",
    "print np.shape(t)\n",
    "print np.shape(test)"
   ]
  },
  {
   "cell_type": "code",
   "execution_count": null,
   "metadata": {},
   "outputs": [],
   "source": []
  },
  {
   "cell_type": "code",
   "execution_count": 49,
   "metadata": {},
   "outputs": [
    {
     "name": "stdout",
     "output_type": "stream",
     "text": [
      "<type 'list'><type 'list'>\n"
     ]
    }
   ],
   "source": [
    "#t=t.tolist()\n",
    "t = t+test\n",
    "#print str(type(t)) + str(type(test))\n",
    "#print np.shape(t[0])\n",
    "#print np.shape(t[1])"
   ]
  },
  {
   "cell_type": "code",
   "execution_count": 50,
   "metadata": {},
   "outputs": [
    {
     "name": "stdout",
     "output_type": "stream",
     "text": [
      "(122, 6)\n",
      "(40, 6)\n"
     ]
    }
   ],
   "source": [
    "print np.shape(t[0])\n",
    "print np.shape(t[1])"
   ]
  },
  {
   "cell_type": "code",
   "execution_count": 51,
   "metadata": {},
   "outputs": [],
   "source": [
    "inputs = []\n"
   ]
  },
  {
   "cell_type": "code",
   "execution_count": null,
   "metadata": {},
   "outputs": [],
   "source": []
  },
  {
   "cell_type": "code",
   "execution_count": null,
   "metadata": {},
   "outputs": [],
   "source": []
  }
 ],
 "metadata": {
  "kernelspec": {
   "display_name": "Python 2",
   "language": "python",
   "name": "python2"
  },
  "language_info": {
   "codemirror_mode": {
    "name": "ipython",
    "version": 2
   },
   "file_extension": ".py",
   "mimetype": "text/x-python",
   "name": "python",
   "nbconvert_exporter": "python",
   "pygments_lexer": "ipython2",
   "version": "2.7.6"
  }
 },
 "nbformat": 4,
 "nbformat_minor": 2
}
